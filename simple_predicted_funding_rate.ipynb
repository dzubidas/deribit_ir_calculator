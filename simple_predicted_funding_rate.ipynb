{
 "cells": [
  {
   "cell_type": "code",
   "execution_count": null,
   "id": "1e4f3a5c-2da4-4533-a71e-331735d873a5",
   "metadata": {},
   "outputs": [
    {
     "name": "stdout",
     "output_type": "stream",
     "text": [
      "-0.026118\n",
      "-0.026118\n",
      "-0.026118\n",
      "-0.026118\n",
      "-0.026118\n",
      "-0.026118\n",
      "-0.025467\n",
      "-0.025467\n",
      "-0.025467\n",
      "-0.025467\n",
      "-0.025467\n",
      "-0.025467\n",
      "-0.024162\n",
      "-0.024162\n",
      "-0.024162\n",
      "-0.024162\n",
      "-0.024162\n",
      "-0.024164\n",
      "-0.024164\n",
      "-0.024164\n",
      "-0.024164\n",
      "-0.024164\n",
      "-0.024164\n",
      "-0.023833\n",
      "-0.023833\n",
      "-0.023833\n",
      "-0.023833\n",
      "-0.023833\n",
      "-0.023833\n",
      "-0.023300\n",
      "-0.023300\n",
      "-0.023300\n",
      "-0.023300\n",
      "-0.023300\n",
      "-0.023300\n",
      "-0.022865\n",
      "-0.022865\n",
      "-0.022865\n",
      "-0.022865\n",
      "-0.022865\n",
      "-0.022865\n",
      "-0.021917\n",
      "-0.021917\n",
      "-0.021917\n",
      "-0.021917\n",
      "-0.021917\n",
      "-0.021917\n",
      "-0.021089\n",
      "-0.021089\n",
      "-0.021089\n",
      "-0.021089\n",
      "-0.021089\n",
      "-0.021089\n",
      "-0.021405\n",
      "-0.021405\n",
      "-0.021405\n",
      "-0.021405\n",
      "-0.021405\n",
      "-0.021405\n",
      "-0.021690\n",
      "-0.021690\n",
      "-0.021690\n",
      "-0.021690\n",
      "-0.021690\n",
      "-0.021690\n",
      "-0.021741\n",
      "-0.021741\n",
      "-0.021741\n",
      "-0.021741\n",
      "-0.021741\n",
      "-0.021741\n",
      "-0.021683\n",
      "-0.021683\n",
      "-0.021683\n",
      "-0.021683\n",
      "-0.021683\n",
      "-0.021721\n",
      "-0.021721\n",
      "-0.021721\n",
      "-0.021721\n",
      "-0.021721\n",
      "-0.021721\n",
      "-0.021364\n",
      "-0.021364\n",
      "-0.021364\n",
      "-0.021364\n",
      "-0.021364\n",
      "-0.021364\n"
     ]
    },
    {
     "name": "stderr",
     "output_type": "stream",
     "text": [
      "/tmp/ipykernel_14052/3166377043.py:49: UserWarning: Could not infer format, so each element will be parsed individually, falling back to `dateutil`. To ensure parsing is consistent and as-expected, please specify a format.\n",
      "  df_pi['timestamp'] = pd.to_datetime(df_pi['timestamp'])\n"
     ]
    },
    {
     "name": "stdout",
     "output_type": "stream",
     "text": [
      "-0.021219\n"
     ]
    },
    {
     "name": "stderr",
     "output_type": "stream",
     "text": [
      "/tmp/ipykernel_14052/3166377043.py:49: UserWarning: Could not infer format, so each element will be parsed individually, falling back to `dateutil`. To ensure parsing is consistent and as-expected, please specify a format.\n",
      "  df_pi['timestamp'] = pd.to_datetime(df_pi['timestamp'])\n"
     ]
    },
    {
     "name": "stdout",
     "output_type": "stream",
     "text": [
      "-0.021219\n"
     ]
    },
    {
     "name": "stderr",
     "output_type": "stream",
     "text": [
      "/tmp/ipykernel_14052/3166377043.py:49: UserWarning: Could not infer format, so each element will be parsed individually, falling back to `dateutil`. To ensure parsing is consistent and as-expected, please specify a format.\n",
      "  df_pi['timestamp'] = pd.to_datetime(df_pi['timestamp'])\n"
     ]
    },
    {
     "name": "stdout",
     "output_type": "stream",
     "text": [
      "-0.021219\n"
     ]
    },
    {
     "name": "stderr",
     "output_type": "stream",
     "text": [
      "/tmp/ipykernel_14052/3166377043.py:49: UserWarning: Could not infer format, so each element will be parsed individually, falling back to `dateutil`. To ensure parsing is consistent and as-expected, please specify a format.\n",
      "  df_pi['timestamp'] = pd.to_datetime(df_pi['timestamp'])\n"
     ]
    },
    {
     "name": "stdout",
     "output_type": "stream",
     "text": [
      "-0.021219\n"
     ]
    },
    {
     "name": "stderr",
     "output_type": "stream",
     "text": [
      "/tmp/ipykernel_14052/3166377043.py:49: UserWarning: Could not infer format, so each element will be parsed individually, falling back to `dateutil`. To ensure parsing is consistent and as-expected, please specify a format.\n",
      "  df_pi['timestamp'] = pd.to_datetime(df_pi['timestamp'])\n"
     ]
    },
    {
     "name": "stdout",
     "output_type": "stream",
     "text": [
      "-0.021219\n"
     ]
    },
    {
     "name": "stderr",
     "output_type": "stream",
     "text": [
      "/tmp/ipykernel_14052/3166377043.py:49: UserWarning: Could not infer format, so each element will be parsed individually, falling back to `dateutil`. To ensure parsing is consistent and as-expected, please specify a format.\n",
      "  df_pi['timestamp'] = pd.to_datetime(df_pi['timestamp'])\n"
     ]
    },
    {
     "name": "stdout",
     "output_type": "stream",
     "text": [
      "-0.021219\n"
     ]
    }
   ],
   "source": [
    "import requests\n",
    "import pandas as pd\n",
    "import time\n",
    "from datetime import datetime, timezone, timedelta\n",
    "\n",
    "def get_last_settlement_time():\n",
    "    \"\"\"Získa posledný settlement čas\"\"\"\n",
    "    now = datetime.now(timezone.utc)\n",
    "    \n",
    "    # Settlement časy: 04:00, 12:00, 20:00 UTC\n",
    "    settlement_hours = [4, 12, 20]\n",
    "    \n",
    "    # Nájdi posledný settlement\n",
    "    today = now.replace(hour=0, minute=0, second=0, microsecond=0)\n",
    "    \n",
    "    for hour in reversed(settlement_hours):\n",
    "        settlement_time = today.replace(hour=hour)\n",
    "        if settlement_time <= now:\n",
    "            return settlement_time\n",
    "    \n",
    "    # Ak sme pred prvým settlementom dneška, použij posledný z včera\n",
    "    yesterday = today - timedelta(days=1)\n",
    "    return yesterday.replace(hour=20)\n",
    "\n",
    "def calculate_current_predicted_funding(symbol=\"XBTUSD\"):\n",
    "    \"\"\"Vypočíta aktuálnu predicted funding rate\"\"\"\n",
    "    \n",
    "    try:\n",
    "        current_time = datetime.now(timezone.utc)\n",
    "        settlement_time = get_last_settlement_time()\n",
    "        \n",
    "        # Časové rozmedzie\n",
    "        start_time = settlement_time.strftime(\"%Y-%m-%dT%H:%M:%S.000Z\")\n",
    "        end_time = current_time.strftime(\"%Y-%m-%dT%H:%M:%S.000Z\")\n",
    "        \n",
    "        # Získaj Premium Index dáta\n",
    "        url = f\"https://www.bitmex.com/api/v1/trade?symbol=.{symbol}PI&count=500&reverse=true&endTime={end_time}\"\n",
    "        resp = requests.get(url, timeout=10)\n",
    "        \n",
    "        if resp.status_code != 200:\n",
    "            return None\n",
    "            \n",
    "        pi_data = resp.json()\n",
    "        if not pi_data:\n",
    "            return None\n",
    "        \n",
    "        # Spracuj dáta\n",
    "        df_pi = pd.DataFrame(pi_data)\n",
    "        df_pi['timestamp'] = pd.to_datetime(df_pi['timestamp'])\n",
    "        \n",
    "        # Filtruj dáta od posledného settlement\n",
    "        df_filtered = df_pi[df_pi['timestamp'] >= settlement_time]\n",
    "        \n",
    "        if df_filtered.empty:\n",
    "            return None\n",
    "        \n",
    "        # Vypočítaj priemer Premium Index\n",
    "        avg_premium_index = df_filtered['price'].mean()\n",
    "        \n",
    "        # BitMEX vzorec\n",
    "        interest_rate = 0.0001  # 0.01%\n",
    "        diff = interest_rate - avg_premium_index\n",
    "        clamped_value = max(-0.0005, min(0.0005, diff))\n",
    "        predicted_funding = avg_premium_index + clamped_value\n",
    "        \n",
    "        # Vráť percentá\n",
    "        return predicted_funding * 100\n",
    "        \n",
    "    except Exception:\n",
    "        return None\n",
    "\n",
    "def monitor_funding_rate(symbol=\"XBTUSD\", interval=10):\n",
    "    \"\"\"Monitoruje funding rate každých X sekúnd\"\"\"\n",
    "    \n",
    "    while True:\n",
    "        funding_rate = calculate_current_predicted_funding(symbol)\n",
    "        \n",
    "        if funding_rate is not None:\n",
    "            print(f\"{funding_rate:.6f}\")\n",
    "        else:\n",
    "            print(\"ERROR\")\n",
    "        \n",
    "        time.sleep(interval)\n",
    "\n",
    "if __name__ == \"__main__\":\n",
    "    # Spusti monitoring každých 10 sekúnd\n",
    "    monitor_funding_rate(\"XBTUSD\", 10)"
   ]
  },
  {
   "cell_type": "code",
   "execution_count": null,
   "id": "7f976322-fd91-4a3e-a27b-91dddbd924d6",
   "metadata": {},
   "outputs": [],
   "source": []
  },
  {
   "cell_type": "code",
   "execution_count": null,
   "id": "fa8ef9bd-baf4-45c3-84aa-0f7252f76b73",
   "metadata": {},
   "outputs": [],
   "source": []
  }
 ],
 "metadata": {
  "kernelspec": {
   "display_name": "Python 3 (ipykernel)",
   "language": "python",
   "name": "python3"
  },
  "language_info": {
   "codemirror_mode": {
    "name": "ipython",
    "version": 3
   },
   "file_extension": ".py",
   "mimetype": "text/x-python",
   "name": "python",
   "nbconvert_exporter": "python",
   "pygments_lexer": "ipython3",
   "version": "3.12.3"
  }
 },
 "nbformat": 4,
 "nbformat_minor": 5
}
