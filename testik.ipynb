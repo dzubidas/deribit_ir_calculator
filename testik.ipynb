{
 "cells": [
  {
   "cell_type": "code",
   "execution_count": 1,
   "id": "fd8af39b-f538-41a0-a32c-b84ce0edba63",
   "metadata": {},
   "outputs": [],
   "source": [
    "import requests\n",
    "import pandas as pd\n",
    "import numpy as np\n",
    "from datetime import datetime, timezone, timedelta\n",
    "import warnings\n",
    "warnings.filterwarnings('ignore')"
   ]
  },
  {
   "cell_type": "code",
   "execution_count": 2,
   "id": "cfc0fcaf-83a4-4924-afd8-5c88f71f2d4a",
   "metadata": {},
   "outputs": [],
   "source": [
    "def get_funding_settlements_for_day(date_str=\"2025-05-30\"):\n",
    "    \"\"\"Získa funding settlement časy pre daný deň\"\"\"\n",
    "    settlements = []\n",
    "    base_date = datetime.strptime(date_str, \"%Y-%m-%d\").replace(tzinfo=timezone.utc)\n",
    "    \n",
    "    # Funding časy: 04:00, 12:00, 20:00 UTC\n",
    "    for hour in [4, 12, 20]:\n",
    "        settlement_time = base_date.replace(hour=hour, minute=0, second=0, microsecond=0)\n",
    "        settlements.append(settlement_time)\n",
    "    \n",
    "    return settlements"
   ]
  },
  {
   "cell_type": "code",
   "execution_count": 3,
   "id": "1119b6b8-d4af-483b-94c4-7004948f5fa9",
   "metadata": {},
   "outputs": [],
   "source": [
    "def calculate_predicted_funding_at_time(symbol, target_time, settlement_start):\n",
    "    \"\"\"Vypočíta predicted funding rate v konkrétnom čase\"\"\"\n",
    "    \n",
    "    # Časové okno od settlement do target_time\n",
    "    start_time = settlement_start.strftime(\"%Y-%m-%dT%H:%M:%S.000Z\")\n",
    "    end_time = target_time.strftime(\"%Y-%m-%dT%H:%M:%S.000Z\")\n",
    "    \n",
    "    try:\n",
    "        # Počet minút v okne + buffer\n",
    "        time_diff = target_time - settlement_start\n",
    "        minutes_needed = int(time_diff.total_seconds() / 60) + 10\n",
    "        count = min(minutes_needed, 500)\n",
    "        \n",
    "        # Získaj Premium Index dáta\n",
    "        url_pi = f\"https://www.bitmex.com/api/v1/trade?symbol=.{symbol}PI&count={count}&reverse=true&endTime={end_time}\"\n",
    "        resp_pi = requests.get(url_pi)\n",
    "        \n",
    "        if resp_pi.status_code != 200:\n",
    "            return None\n",
    "            \n",
    "        pi_data = resp_pi.json()\n",
    "        if not pi_data:\n",
    "            return None\n",
    "        \n",
    "        # Spracuj dáta\n",
    "        df_pi = pd.DataFrame(pi_data)\n",
    "        df_pi['timestamp'] = pd.to_datetime(df_pi['timestamp'])\n",
    "        \n",
    "        # Filtruj dáta od settlement_start do target_time\n",
    "        df_pi_filtered = df_pi[\n",
    "            (df_pi['timestamp'] >= settlement_start) & \n",
    "            (df_pi['timestamp'] <= target_time)\n",
    "        ]\n",
    "        \n",
    "        if df_pi_filtered.empty:\n",
    "            return None\n",
    "        \n",
    "        # Vypočítaj priemer Premium Index\n",
    "        avg_premium_index = df_pi_filtered['price'].mean()\n",
    "        data_points = len(df_pi_filtered)\n",
    "        \n",
    "        # Aplikuj BitMEX vzorec\n",
    "        interest_rate = 0.0001  # 0.01%\n",
    "        diff = interest_rate - avg_premium_index\n",
    "        clamped_value = max(-0.0005, min(0.0005, diff))\n",
    "        predicted_funding = avg_premium_index + clamped_value\n",
    "        \n",
    "        return {\n",
    "            'timestamp': target_time,\n",
    "            'predicted_funding': predicted_funding,\n",
    "            'predicted_funding_percent': predicted_funding * 100,\n",
    "            'premium_index': avg_premium_index,\n",
    "            'data_points': data_points,\n",
    "            'hours_since_settlement': time_diff.total_seconds() / 3600\n",
    "        }\n",
    "        \n",
    "    except Exception as e:\n",
    "        print(f\"Chyba pre čas {target_time}: {e}\")\n",
    "        return None"
   ]
  },
  {
   "cell_type": "code",
   "execution_count": null,
   "id": "e029c033-750a-4f20-9051-7b48a89735df",
   "metadata": {},
   "outputs": [],
   "source": []
  }
 ],
 "metadata": {
  "kernelspec": {
   "display_name": "Python 3 (ipykernel)",
   "language": "python",
   "name": "python3"
  },
  "language_info": {
   "codemirror_mode": {
    "name": "ipython",
    "version": 3
   },
   "file_extension": ".py",
   "mimetype": "text/x-python",
   "name": "python",
   "nbconvert_exporter": "python",
   "pygments_lexer": "ipython3",
   "version": "3.12.3"
  }
 },
 "nbformat": 4,
 "nbformat_minor": 5
}
